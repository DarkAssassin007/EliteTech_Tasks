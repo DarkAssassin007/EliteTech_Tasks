{
 "cells": [
  {
   "cell_type": "code",
   "execution_count": 1,
   "id": "289af290-0f23-4258-b159-a50a1a4145be",
   "metadata": {},
   "outputs": [
    {
     "name": "stdout",
     "output_type": "stream",
     "text": [
      "Data loaded to cleaned_data.csv\n"
     ]
    }
   ],
   "source": [
    "\"etl_pipeline\"\n",
    "\n",
    "import pandas as pd\n",
    "from sklearn.preprocessing import StandardScaler, LabelEncoder\n",
    "from sklearn.impute import SimpleImputer\n",
    "\n",
    "def extract(file_path):\n",
    "    \"\"\"Step 1: Extract data from CSV file\"\"\"\n",
    "    file_path = \"heart.csv\"\n",
    "    return pd.read_csv(file_path)\n",
    "\n",
    "def preprocess(df):\n",
    "    \"\"\"Step 2: Handle missing values\"\"\"\n",
    "    numeric_cols = df.select_dtypes(include=['float64', 'int64']).columns\n",
    "    categorical_cols = df.select_dtypes(include=['object']).columns\n",
    "\n",
    "    imputer_num = SimpleImputer(strategy='mean')\n",
    "    df[numeric_cols] = imputer_num.fit_transform(df[numeric_cols])\n",
    "\n",
    "    imputer_cat = SimpleImputer(strategy='most_frequent')\n",
    "    df[categorical_cols] = imputer_cat.fit_transform(df[categorical_cols])\n",
    "\n",
    "    return df\n",
    "\n",
    "def transform(df):\n",
    "    \"\"\"Step 3: Encode categorical and scale numeric data\"\"\"\n",
    "    numeric_cols = df.select_dtypes(include=['float64', 'int64']).columns\n",
    "    categorical_cols = df.select_dtypes(include=['object']).columns\n",
    "\n",
    "    for col in categorical_cols:\n",
    "        df[col] = LabelEncoder().fit_transform(df[col])\n",
    "\n",
    "    df[numeric_cols] = StandardScaler().fit_transform(df[numeric_cols])\n",
    "    return df\n",
    "\n",
    "def load(df, output_path):\n",
    "    \"\"\"Step 4: Load processed data to a new CSV file\"\"\"\n",
    "    df.to_csv(output_path, index=False)\n",
    "    print(f\"Data loaded to {output_path}\")\n",
    "\n",
    "if __name__ == \"__main__\":\n",
    "    input_path = 'raw_data.csv'\n",
    "    output_path = 'cleaned_data.csv'\n",
    "\n",
    "    df = extract(input_path)\n",
    "    df = preprocess(df)\n",
    "    df = transform(df)\n",
    "    load(df, output_path)\n"
   ]
  },
  {
   "cell_type": "code",
   "execution_count": null,
   "id": "3d5fc890-d961-4679-93d7-9dd159df7227",
   "metadata": {},
   "outputs": [],
   "source": []
  }
 ],
 "metadata": {
  "kernelspec": {
   "display_name": "Python [conda env:base] *",
   "language": "python",
   "name": "conda-base-py"
  },
  "language_info": {
   "codemirror_mode": {
    "name": "ipython",
    "version": 3
   },
   "file_extension": ".py",
   "mimetype": "text/x-python",
   "name": "python",
   "nbconvert_exporter": "python",
   "pygments_lexer": "ipython3",
   "version": "3.12.7"
  }
 },
 "nbformat": 4,
 "nbformat_minor": 5
}
